{
 "cells": [
  {
   "cell_type": "markdown",
   "metadata": {},
   "source": [
    "# Prep\n",
    "\n",
    "This workbook reads in and pre-processes the titanic data into a Pandas dataset. The goal is to simply call in this workbook at the beginning of each other workbook to prevent redundant code. "
   ]
  },
  {
   "cell_type": "code",
   "execution_count": 8,
   "metadata": {},
   "outputs": [],
   "source": [
    "# Test variables\n",
    "'''\n",
    "embarked = 'integers-zero'\n",
    "age = 'baby-zero-other-avg'\n",
    "sex = 'integer'\n",
    "fare = 'integer-floor'\n",
    "'''\n",
    "\n",
    "# Load variables from other notebook\n",
    "%store -r"
   ]
  },
  {
   "cell_type": "markdown",
   "metadata": {},
   "source": [
    "# Read In Data\n",
    "\n",
    "Actually import the data into python and set an index\n"
   ]
  },
  {
   "cell_type": "code",
   "execution_count": 9,
   "metadata": {},
   "outputs": [],
   "source": [
    "# Import relevant libraries\n",
    "\n",
    "# Data manipulation\n",
    "import pandas as pd\n",
    "import numpy as np\n",
    "\n",
    "# Ease of displaying multiple tables\n",
    "from IPython.display import display, HTML"
   ]
  },
  {
   "cell_type": "code",
   "execution_count": 10,
   "metadata": {},
   "outputs": [],
   "source": [
    "# Read in datasets \n",
    "titanic_df = pd.read_csv(\"data/train.csv\")\n",
    "titanic_test_df = pd.read_csv(\"data/test.csv\")"
   ]
  },
  {
   "cell_type": "code",
   "execution_count": 11,
   "metadata": {},
   "outputs": [
    {
     "data": {
      "text/plain": [
       "(891, 11)"
      ]
     },
     "execution_count": 11,
     "metadata": {},
     "output_type": "execute_result"
    }
   ],
   "source": [
    "# Set passengerid as index\n",
    "titanic_df = titanic_df.set_index('PassengerId')\n",
    "titanic_test_df = titanic_test_df.set_index('PassengerId')\n",
    "\n",
    "#titanic_df.head()\n",
    "titanic_df.shape"
   ]
  },
  {
   "cell_type": "markdown",
   "metadata": {},
   "source": [
    "# Feature Processing\n",
    "\n",
    "Some of the columns aren't amazing. IE, missing values, categories, etc. For each column, we'll have a default value (the original) and the ability to let other notebooks send in a variable change.\n",
    "\n",
    "Viewing the data above, it seems out of scope to process `Name`, `Ticket`, and `Cabin`. Perhaps that's another venture...\n",
    "\n",
    "At the beginning of each section, look for...\n",
    "\n",
    "**variable_name** = \\[*'default'*, 'option-1', 'option-2',... \\] \n",
    "\n",
    "... where the default option means do nothing.\n",
    "\n",
    "## Missing Values\n",
    "\n",
    "To start, let's see what imputation is required: "
   ]
  },
  {
   "cell_type": "code",
   "execution_count": 12,
   "metadata": {},
   "outputs": [
    {
     "data": {
      "text/plain": [
       "Survived      0\n",
       "Pclass        0\n",
       "Name          0\n",
       "Sex           0\n",
       "Age         177\n",
       "SibSp         0\n",
       "Parch         0\n",
       "Ticket        0\n",
       "Fare          0\n",
       "Cabin       687\n",
       "Embarked      2\n",
       "dtype: int64"
      ]
     },
     "metadata": {},
     "output_type": "display_data"
    },
    {
     "data": {
      "text/plain": [
       "Pclass        0\n",
       "Name          0\n",
       "Sex           0\n",
       "Age          86\n",
       "SibSp         0\n",
       "Parch         0\n",
       "Ticket        0\n",
       "Fare          1\n",
       "Cabin       327\n",
       "Embarked      0\n",
       "dtype: int64"
      ]
     },
     "metadata": {},
     "output_type": "display_data"
    }
   ],
   "source": [
    "# check missing values\n",
    "display(titanic_df.isnull().sum())\n",
    "display(titanic_test_df.isnull().sum())"
   ]
  },
  {
   "cell_type": "markdown",
   "metadata": {},
   "source": [
    "...So, it's fair to say that `Age`, `Fare`, and `Embarked` need some thinking about. "
   ]
  },
  {
   "cell_type": "markdown",
   "metadata": {},
   "source": [
    "## Embarked \n",
    "\n",
    "**embarked** = \\[*'CQS'*, 'integers-zero', 'integers-S', 'integers-C', 'integers-Q'\\]\n",
    "\n",
    "The Titanic was loaded in Southhampton ('S'), stopped at Cherbourg ('C'), then one final stop at Queenstown ('Q') (Source: https://www.thoughtco.com/titanic-timeline-1779210, accessed 2019-03-11).\n",
    "\n",
    "There are two records with missing embarkation data in the training set. So, in addition to default, we can try to give those a new value (0), or just pretend they were in S, C, or Q. "
   ]
  },
  {
   "cell_type": "code",
   "execution_count": 13,
   "metadata": {},
   "outputs": [],
   "source": [
    "#print(\"Training:\")\n",
    "#display(titanic_df[['PassengerId', 'Embarked']].groupby(['Embarked']).agg(['count']))"
   ]
  },
  {
   "cell_type": "markdown",
   "metadata": {},
   "source": [
    "99% populated with values C, Q and S. \n",
    "\n",
    "### Integers\n",
    "\n",
    "When converting to ordinals, going to code 'S' => 1, 'C' => 2, 'Q' => 3, since that's the order the ship embarked\n",
    "\n",
    "There's only two values in the training set that are missing, but let's still define what to do. Either set the NAN values to zero (`integers-zero`), or set them to one of the three embarkation ports (`integers-S|C|S`)"
   ]
  },
  {
   "cell_type": "code",
   "execution_count": 14,
   "metadata": {},
   "outputs": [],
   "source": [
    "# We kinda hope embarked is defined... but if not, just don't change the column\n",
    "\n",
    "try:\n",
    "    if embarked == 'integers-zero':\n",
    "        embarked_map = {np.nan: 0, 'S': 1, 'C': 2, 'Q': 3}\n",
    "        titanic_df.replace({'Embarked': embarked_map}, inplace=True)\n",
    "        titanic_test_df.replace({'Embarked': embarked_map}, inplace=True)\n",
    "    elif embarked == 'integers-S':\n",
    "        embarked_map = {np.nan: 1, 'S': 1, 'C': 2, 'Q': 3}\n",
    "        titanic_df.replace({'Embarked': embarked_map}, inplace=True)\n",
    "        titanic_test_df.replace({'Embarked': embarked_map}, inplace=True)\n",
    "    elif embarked == 'integers-C':\n",
    "        embarked_map = {np.nan: 2, 'S': 1, 'C': 2, 'Q': 3}\n",
    "        titanic_df.replace({'Embarked': embarked_map}, inplace=True)\n",
    "        titanic_test_df.replace({'Embarked': embarked_map}, inplace=True)\n",
    "    elif embarked == 'integers-Q':\n",
    "        embarked_map = {np.nan: 3, 'S': 1, 'C': 2, 'Q': 3}\n",
    "        titanic_df.replace({'Embarked': embarked_map}, inplace=True)\n",
    "        titanic_test_df.replace({'Embarked': embarked_map}, inplace=True)\n",
    "except NameError:\n",
    "    pass        "
   ]
  },
  {
   "cell_type": "markdown",
   "metadata": {},
   "source": [
    "## Fare\n",
    "\n",
    "**fare** = \\[*'default'*, 'integer-round', 'integer-ceiling', 'integer-floor'\\]\n",
    "\n",
    "There's only one value missing in the test set for fare, and it's already a float64. Otherwise, there are a lot of 0 value fairs. I think the only option is default, let's turn the NAN fair to zero.\n",
    "\n",
    "Additionally, there's a lot of complexity in a fare's precise value, maybe it makes sense to just convert it to integers? If the model calling this notebook wants it, we can optionally turn fare into an int64 column, which means every column is int64. Nice, right? "
   ]
  },
  {
   "cell_type": "code",
   "execution_count": 15,
   "metadata": {},
   "outputs": [],
   "source": [
    "# Fill NA with 0\n",
    "titanic_test_df['Fare'] = titanic_test_df['Fare'].fillna(0)"
   ]
  },
  {
   "cell_type": "code",
   "execution_count": 16,
   "metadata": {},
   "outputs": [],
   "source": [
    "# Encode fares as int64 if desired\n",
    "try:\n",
    "    if fare == 'integer-round':\n",
    "        titanic_df.Fare = titanic_df.Fare.round().astype(np.int64)\n",
    "        titanic_test_df.Fare = titanic_test_df.Fare.round().astype(np.int64)\n",
    "    elif fare == 'integer-ceiling':\n",
    "        titanic_df.Fare = titanic_df.Fare.apply(np.ceil).astype(np.int64)\n",
    "        titanic_test_df.Fare = titanic_test_df.Fare.apply(np.ceil).astype(np.int64)\n",
    "    elif fare == 'integer-floor':\n",
    "        titanic_df.Fare = titanic_df.Fare.apply(np.floor).astype(np.int64)\n",
    "        titanic_test_df.Fare = titanic_test_df.Fare.apply(np.floor).astype(np.int64)\n",
    "except NameError:\n",
    "    pass        "
   ]
  },
  {
   "cell_type": "markdown",
   "metadata": {},
   "source": [
    "## Age \n",
    "\n",
    "**age** = \\[*'default'*, 'baby-zero', 'baby-zero-other-avg', 'baby-default-other-avg'\\]\n",
    "\n",
    "Age is a tricky one... there are a lot of missing values. And not strictly integers, since if you're less than 1 year old, they provide a fraction. I think there are a few ways to handle it: \n",
    "\n",
    "* Get rid of float status by rounding down to zero for babies\n",
    "* impute age as average age of passengers overall\n",
    "* impute age as average age of passenger class (r = -0.37). \n",
    "\n",
    "..definitely a place to explore in the future. But let's just start with average age."
   ]
  },
  {
   "cell_type": "code",
   "execution_count": 17,
   "metadata": {},
   "outputs": [],
   "source": [
    "# Calculate average age\n",
    "from math import floor\n",
    "\n",
    "# just like with newborns, gonna assume if you're 29 and 250 days, you're still 29. \n",
    "avg_age = floor(titanic_df['Age'].mean(axis=0, skipna = True))"
   ]
  },
  {
   "cell_type": "code",
   "execution_count": 18,
   "metadata": {},
   "outputs": [],
   "source": [
    "try:\n",
    "    if age == 'baby-zero':\n",
    "        titanic_df.loc[titanic_df[\"Age\"] < 1, [\"Age\"]] = 0\n",
    "        titanic_test_df.loc[titanic_test_df[\"Age\"] < 1, [\"Age\"]] = 0\n",
    "        titanic_df[\"Age\"] = titanic_df[\"Age\"].astype(np.int64)\n",
    "        titanic_test_df[\"Age\"] = titanic_test_df[\"Age\"].astype(np.int64)\n",
    "    elif age == 'baby-zero-other-avg':\n",
    "        titanic_df.loc[titanic_df[\"Age\"] < 1, [\"Age\"]] = 0\n",
    "        titanic_df['Age'] = titanic_df['Age'].fillna(avg_age).astype(np.int64)\n",
    "        titanic_test_df.loc[titanic_test_df[\"Age\"] < 1, [\"Age\"]] = 0\n",
    "        titanic_test_df['Age'] = titanic_test_df['Age'].fillna(avg_age).astype(np.int64)\n",
    "        #titanic_df[\"Age\"] = titanic_df[\"Age\"].astype(np.int64)\n",
    "        #titanic_test_df[\"Age\"] = titanic_test_df[\"Age\"].astype(np.int64)\n",
    "    elif age == 'baby-default-other-avg':\n",
    "        titanic_df['Age'] = titanic_df['Age'].fillna(avg_age).astype(np.int64)\n",
    "        titanic_test_df['Age'] = titanic_test_df['Age'].fillna(avg_age).astype(np.int64)\n",
    "        #titanic_df[\"Age\"] = titanic_df[\"Age\"].astype(np.int64)\n",
    "        #titanic_test_df[\"Age\"] = titanic_test_df[\"Age\"].astype(np.int64)\n",
    "except NameError:\n",
    "    pass        "
   ]
  },
  {
   "cell_type": "markdown",
   "metadata": {},
   "source": [
    "## Sex\n",
    "\n",
    "**sex** = \\[*'default'*, 'integer'\\]\n",
    "\n",
    "Every passenger had it's sex recorded... which is silly. But for modeling purposes, it might be nice to have \"male\" and \"female\" turned into 0 and 1. \n"
   ]
  },
  {
   "cell_type": "code",
   "execution_count": 19,
   "metadata": {},
   "outputs": [],
   "source": [
    "try:\n",
    "    if sex == 'integer':\n",
    "        sex_map = {'male': 0, 'female': 1}\n",
    "        titanic_df.replace({'Sex': sex_map}, inplace=True)\n",
    "        titanic_test_df.replace({'Sex': sex_map}, inplace=True)\n",
    "except NameError:\n",
    "    pass        "
   ]
  },
  {
   "cell_type": "code",
   "execution_count": 20,
   "metadata": {},
   "outputs": [],
   "source": [
    "# prove everything worked\n",
    "#display(titanic_df.isnull().sum())\n",
    "#display(titanic_test_df.isnull().sum())\n",
    "#display(titanic_df.head())\n",
    "#display(titanic_test_df.head())\n",
    "#display(titanic_df.dtypes)"
   ]
  },
  {
   "cell_type": "markdown",
   "metadata": {},
   "source": [
    "## Create Train and Validate subsets\n",
    "\n",
    "We don't technically have access to the full dataset, thus entries in test.csv should be ignored until we are ready to make a Kaggle submission. \n",
    "\n",
    "Let's do an 80/20 split of the train dataset into train and validate"
   ]
  },
  {
   "cell_type": "code",
   "execution_count": 21,
   "metadata": {},
   "outputs": [],
   "source": [
    "from sklearn.model_selection import train_test_split\n",
    "\n",
    "X = titanic_df[[\"Pclass\", \"Sex\", \"Age\", \"SibSp\", \"Parch\", \"Fare\", \"Embarked\"]]\n",
    "Y = titanic_df[[\"Survived\"]]\n",
    "\n",
    "X_train, X_validate, y_train, y_validate = train_test_split(X, Y, test_size=0.2, random_state=10)\n",
    "\n",
    "X_test = titanic_test_df[[\"Pclass\", \"Sex\", \"Age\", \"SibSp\", \"Parch\", \"Fare\", \"Embarked\"]]\n"
   ]
  },
  {
   "cell_type": "code",
   "execution_count": 24,
   "metadata": {},
   "outputs": [
    {
     "data": {
      "text/html": [
       "<div>\n",
       "<style scoped>\n",
       "    .dataframe tbody tr th:only-of-type {\n",
       "        vertical-align: middle;\n",
       "    }\n",
       "\n",
       "    .dataframe tbody tr th {\n",
       "        vertical-align: top;\n",
       "    }\n",
       "\n",
       "    .dataframe thead th {\n",
       "        text-align: right;\n",
       "    }\n",
       "</style>\n",
       "<table border=\"1\" class=\"dataframe\">\n",
       "  <thead>\n",
       "    <tr style=\"text-align: right;\">\n",
       "      <th></th>\n",
       "      <th>Pclass</th>\n",
       "      <th>Sex</th>\n",
       "      <th>Age</th>\n",
       "      <th>SibSp</th>\n",
       "      <th>Parch</th>\n",
       "      <th>Fare</th>\n",
       "      <th>Embarked</th>\n",
       "    </tr>\n",
       "    <tr>\n",
       "      <th>PassengerId</th>\n",
       "      <th></th>\n",
       "      <th></th>\n",
       "      <th></th>\n",
       "      <th></th>\n",
       "      <th></th>\n",
       "      <th></th>\n",
       "      <th></th>\n",
       "    </tr>\n",
       "  </thead>\n",
       "  <tbody>\n",
       "    <tr>\n",
       "      <th>58</th>\n",
       "      <td>3</td>\n",
       "      <td>0</td>\n",
       "      <td>28</td>\n",
       "      <td>0</td>\n",
       "      <td>0</td>\n",
       "      <td>7</td>\n",
       "      <td>2</td>\n",
       "    </tr>\n",
       "    <tr>\n",
       "      <th>718</th>\n",
       "      <td>2</td>\n",
       "      <td>1</td>\n",
       "      <td>27</td>\n",
       "      <td>0</td>\n",
       "      <td>0</td>\n",
       "      <td>10</td>\n",
       "      <td>1</td>\n",
       "    </tr>\n",
       "    <tr>\n",
       "      <th>432</th>\n",
       "      <td>3</td>\n",
       "      <td>1</td>\n",
       "      <td>29</td>\n",
       "      <td>1</td>\n",
       "      <td>0</td>\n",
       "      <td>16</td>\n",
       "      <td>1</td>\n",
       "    </tr>\n",
       "    <tr>\n",
       "      <th>634</th>\n",
       "      <td>1</td>\n",
       "      <td>0</td>\n",
       "      <td>29</td>\n",
       "      <td>0</td>\n",
       "      <td>0</td>\n",
       "      <td>0</td>\n",
       "      <td>1</td>\n",
       "    </tr>\n",
       "    <tr>\n",
       "      <th>164</th>\n",
       "      <td>3</td>\n",
       "      <td>0</td>\n",
       "      <td>17</td>\n",
       "      <td>0</td>\n",
       "      <td>0</td>\n",
       "      <td>8</td>\n",
       "      <td>1</td>\n",
       "    </tr>\n",
       "  </tbody>\n",
       "</table>\n",
       "</div>"
      ],
      "text/plain": [
       "             Pclass  Sex  Age  SibSp  Parch  Fare  Embarked\n",
       "PassengerId                                                \n",
       "58                3    0   28      0      0     7         2\n",
       "718               2    1   27      0      0    10         1\n",
       "432               3    1   29      1      0    16         1\n",
       "634               1    0   29      0      0     0         1\n",
       "164               3    0   17      0      0     8         1"
      ]
     },
     "execution_count": 24,
     "metadata": {},
     "output_type": "execute_result"
    }
   ],
   "source": [
    "X_train.head()"
   ]
  },
  {
   "cell_type": "code",
   "execution_count": 23,
   "metadata": {},
   "outputs": [
    {
     "name": "stdout",
     "output_type": "stream",
     "text": [
      "Stored 'X_train' (DataFrame)\n",
      "Stored 'X_validate' (DataFrame)\n",
      "Stored 'y_train' (DataFrame)\n",
      "Stored 'y_validate' (DataFrame)\n",
      "Stored 'X_test' (DataFrame)\n"
     ]
    }
   ],
   "source": [
    "%store X_train\n",
    "%store X_validate\n",
    "%store y_train\n",
    "%store y_validate\n",
    "%store X_test"
   ]
  },
  {
   "cell_type": "code",
   "execution_count": null,
   "metadata": {},
   "outputs": [],
   "source": []
  },
  {
   "cell_type": "code",
   "execution_count": null,
   "metadata": {},
   "outputs": [],
   "source": []
  }
 ],
 "metadata": {
  "kernelspec": {
   "display_name": "Python 3",
   "language": "python",
   "name": "python3"
  },
  "language_info": {
   "codemirror_mode": {
    "name": "ipython",
    "version": 3
   },
   "file_extension": ".py",
   "mimetype": "text/x-python",
   "name": "python",
   "nbconvert_exporter": "python",
   "pygments_lexer": "ipython3",
   "version": "3.6.2rc1"
  }
 },
 "nbformat": 4,
 "nbformat_minor": 2
}
